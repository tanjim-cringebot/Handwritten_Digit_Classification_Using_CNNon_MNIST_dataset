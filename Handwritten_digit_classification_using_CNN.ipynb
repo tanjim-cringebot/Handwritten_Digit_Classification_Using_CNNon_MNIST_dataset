{
  "nbformat": 4,
  "nbformat_minor": 0,
  "metadata": {
    "colab": {
      "provenance": []
    },
    "kernelspec": {
      "name": "python3",
      "display_name": "Python 3"
    },
    "language_info": {
      "name": "python"
    }
  },
  "cells": [
    {
      "cell_type": "markdown",
      "source": [
        "###Importing the libraries"
      ],
      "metadata": {
        "id": "RYs9BTCwSXsy"
      }
    },
    {
      "cell_type": "code",
      "source": [
        "import tensorflow as tf\n",
        "import numpy as np\n",
        "from tensorflow.keras import layers, models\n",
        "from tensorflow.keras.datasets import mnist\n",
        "from tensorflow.keras.utils import to_categorical\n",
        "import matplotlib.pyplot as plt\n",
        "from sklearn.metrics import classification_report"
      ],
      "metadata": {
        "id": "REz6AsSnSaAg"
      },
      "execution_count": null,
      "outputs": []
    },
    {
      "cell_type": "markdown",
      "source": [
        "###Loading the dataset"
      ],
      "metadata": {
        "id": "BXAutw3TSl6P"
      }
    },
    {
      "cell_type": "code",
      "source": [
        "(x_train, y_train), (x_test, y_test) = mnist.load_data()"
      ],
      "metadata": {
        "id": "QabCetcLSsWI"
      },
      "execution_count": null,
      "outputs": []
    },
    {
      "cell_type": "markdown",
      "source": [
        "###Displaying a few images"
      ],
      "metadata": {
        "id": "CBQ5nUPWSxpo"
      }
    },
    {
      "cell_type": "code",
      "source": [
        "num_images_to_display = 5\n",
        "\n",
        "plt.figure(figsize=(10, 3))\n",
        "for i in range(num_images_to_display):\n",
        "    plt.subplot(1, num_images_to_display, i+1)\n",
        "    plt.imshow(x_train[i], cmap='gray')\n",
        "    plt.title(f\"Label: {y_train[i]}\")\n",
        "    plt.axis('off')\n",
        "\n",
        "plt.tight_layout()\n",
        "plt.show()"
      ],
      "metadata": {
        "colab": {
          "base_uri": "https://localhost:8080/",
          "height": 241
        },
        "id": "g3lQYxI8S1U4",
        "outputId": "03f7cf74-646b-4c8d-fd9f-e2cf7885b12f"
      },
      "execution_count": null,
      "outputs": [
        {
          "output_type": "display_data",
          "data": {
            "text/plain": [
              "<Figure size 1000x300 with 5 Axes>"
            ],
            "image/png": "[encoded data removed]"
          },
          "metadata": {}
        }
      ]
    },
    {
      "cell_type": "markdown",
      "source": [
        "###Preprocessing the dataset"
      ],
      "metadata": {
        "id": "RT2fmGLAS-I3"
      }
    },
    {
      "cell_type": "code",
      "source": [
        "x_train = x_train.reshape((60000, 28, 28, 1)).astype('float32') / 255\n",
        "x_test = x_test.reshape((10000, 28, 28, 1)).astype('float32') / 255\n",
        "y_train = to_categorical(y_train)\n",
        "y_test = to_categorical(y_test)"
      ],
      "metadata": {
        "id": "WhFbxckKTA8X"
      },
      "execution_count": null,
      "outputs": []
    },
    {
      "cell_type": "markdown",
      "source": [
        "###Implementing the Base CNN architecture"
      ],
      "metadata": {
        "id": "3uSlpNRgTDLP"
      }
    },
    {
      "cell_type": "code",
      "source": [
        "def build_base_cnn():\n",
        "    model = models.Sequential()\n",
        "\n",
        "    model.add(layers.Conv2D(32, (3, 3), activation='relu', input_shape=(28, 28, 1)))\n",
        "    model.add(layers.MaxPooling2D((2, 2)))\n",
        "\n",
        "    model.add(layers.Conv2D(64, (3, 3), activation='relu'))\n",
        "    model.add(layers.MaxPooling2D((2, 2)))\n",
        "\n",
        "    model.add(layers.Conv2D(128, (3, 3), activation='relu'))\n",
        "\n",
        "    model.add(layers.Flatten())\n",
        "    model.add(layers.Dense(128, activation='relu'))\n",
        "    model.add(layers.Dense(10, activation='softmax'))  # 10 classes for MNIST digits\n",
        "\n",
        "    return model\n",
        "\n",
        "base_model = build_base_cnn()\n",
        "base_model.compile(optimizer='adam', loss='categorical_crossentropy', metrics=['accuracy'])\n",
        "base_model.summary()"
      ],
      "metadata": {
        "colab": {
          "base_uri": "https://localhost:8080/"
        },
        "id": "qbXUh1uATGuP",
        "outputId": "2f237803-5bdf-42a0-9d10-176df1f87a5e"
      },
      "execution_count": null,
      "outputs": [
        {
          "output_type": "stream",
          "name": "stdout",
          "text": [
            "Model: \"sequential_1\"\n",
            "_________________________________________________________________\n",
            " Layer (type)                Output Shape              Param #   \n",
            "=================================================================\n",
            " conv2d_3 (Conv2D)           (None, 26, 26, 32)        320       \n",
            "                                                                 \n",
            " max_pooling2d_2 (MaxPooling  (None, 13, 13, 32)       0         \n",
            " 2D)                                                             \n",
            "                                                                 \n",
            " conv2d_4 (Conv2D)           (None, 11, 11, 64)        18496     \n",
            "                                                                 \n",
            " max_pooling2d_3 (MaxPooling  (None, 5, 5, 64)         0         \n",
            " 2D)                                                             \n",
            "                                                                 \n",
            " conv2d_5 (Conv2D)           (None, 3, 3, 128)         73856     \n",
            "                                                                 \n",
            " flatten_1 (Flatten)         (None, 1152)              0         \n",
            "                                                                 \n",
            " dense_2 (Dense)             (None, 128)               147584    \n",
            "                                                                 \n",
            " dense_3 (Dense)             (None, 10)                1290      \n",
            "                                                                 \n",
            "=================================================================\n",
            "Total params: 241,546\n",
            "Trainable params: 241,546\n",
            "Non-trainable params: 0\n",
            "_________________________________________________________________\n"
          ]
        }
      ]
    },
    {
      "cell_type": "markdown",
      "source": [
        "###Training the Base CNN"
      ],
      "metadata": {
        "id": "c9lv4LmNTNmH"
      }
    },
    {
      "cell_type": "code",
      "source": [
        "base_history = base_model.fit(x_train, y_train, epochs=10, batch_size=64, validation_data=(x_test, y_test))"
      ],
      "metadata": {
        "colab": {
          "base_uri": "https://localhost:8080/"
        },
        "id": "Eh3X7kTPTQ9n",
        "outputId": "eec5aeb8-af23-420d-97a9-3935cb61b0dc"
      },
      "execution_count": null,
      "outputs": [
        {
          "output_type": "stream",
          "name": "stdout",
          "text": [
            "Epoch 1/10\n",
            "938/938 [==============================] - 39s 41ms/step - loss: 0.1476 - accuracy: 0.9560 - val_loss: 0.0495 - val_accuracy: 0.9844\n",
            "Epoch 2/10\n",
            "938/938 [==============================] - 40s 43ms/step - loss: 0.0436 - accuracy: 0.9867 - val_loss: 0.0325 - val_accuracy: 0.9893\n",
            "Epoch 3/10\n",
            "938/938 [==============================] - 39s 41ms/step - loss: 0.0304 - accuracy: 0.9904 - val_loss: 0.0288 - val_accuracy: 0.9904\n",
            "Epoch 4/10\n",
            "938/938 [==============================] - 38s 41ms/step - loss: 0.0232 - accuracy: 0.9925 - val_loss: 0.0398 - val_accuracy: 0.9875\n",
            "Epoch 5/10\n",
            "938/938 [==============================] - 39s 42ms/step - loss: 0.0180 - accuracy: 0.9941 - val_loss: 0.0274 - val_accuracy: 0.9915\n",
            "Epoch 6/10\n",
            "938/938 [==============================] - 38s 41ms/step - loss: 0.0153 - accuracy: 0.9950 - val_loss: 0.0398 - val_accuracy: 0.9889\n",
            "Epoch 7/10\n",
            "938/938 [==============================] - 39s 41ms/step - loss: 0.0119 - accuracy: 0.9960 - val_loss: 0.0332 - val_accuracy: 0.9905\n",
            "Epoch 8/10\n",
            "938/938 [==============================] - 39s 42ms/step - loss: 0.0096 - accuracy: 0.9967 - val_loss: 0.0265 - val_accuracy: 0.9922\n",
            "Epoch 9/10\n",
            "938/938 [==============================] - 38s 41ms/step - loss: 0.0090 - accuracy: 0.9969 - val_loss: 0.0327 - val_accuracy: 0.9912\n",
            "Epoch 10/10\n",
            "938/938 [==============================] - 39s 41ms/step - loss: 0.0073 - accuracy: 0.9973 - val_loss: 0.0476 - val_accuracy: 0.9890\n"
          ]
        }
      ]
    },
    {
      "cell_type": "markdown",
      "source": [
        "###Activation functions"
      ],
      "metadata": {
        "id": "Vtqb7ygdXY9u"
      }
    },
    {
      "cell_type": "code",
      "source": [
        "activation_functions = ['relu', 'tanh', 'sigmoid']\n",
        "\n",
        "activation_models = []\n",
        "activation_histories = []\n",
        "\n",
        "for activation in activation_functions:\n",
        "    model = build_base_cnn()\n",
        "    for layer in model.layers:\n",
        "        if isinstance(layer, layers.Conv2D):\n",
        "            layer.activation = tf.keras.activations.get(activation)\n",
        "    model.compile(optimizer='adam', loss='categorical_crossentropy', metrics=['accuracy'])\n",
        "    activation_models.append(model)\n",
        "\n",
        "for model in activation_models:\n",
        "    history = model.fit(x_train, y_train, epochs=10, batch_size=64, validation_data=(x_test, y_test))\n",
        "    activation_histories.append(history)\n"
      ],
      "metadata": {
        "colab": {
          "base_uri": "https://localhost:8080/"
        },
        "id": "kChAg-XWXbAR",
        "outputId": "8f5cc4b6-d6c6-4c5a-f203-eae84bcc7c1c"
      },
      "execution_count": null,
      "outputs": [
        {
          "output_type": "stream",
          "name": "stdout",
          "text": [
            "Epoch 1/10\n",
            "938/938 [==============================] - 39s 41ms/step - loss: 0.1531 - accuracy: 0.9518 - val_loss: 0.0359 - val_accuracy: 0.9881\n",
            "Epoch 2/10\n",
            "938/938 [==============================] - 39s 41ms/step - loss: 0.0452 - accuracy: 0.9858 - val_loss: 0.0425 - val_accuracy: 0.9867\n",
            "Epoch 3/10\n",
            "938/938 [==============================] - 40s 43ms/step - loss: 0.0310 - accuracy: 0.9903 - val_loss: 0.0404 - val_accuracy: 0.9860\n",
            "Epoch 4/10\n",
            "938/938 [==============================] - 38s 41ms/step - loss: 0.0240 - accuracy: 0.9921 - val_loss: 0.0358 - val_accuracy: 0.9891\n",
            "Epoch 5/10\n",
            "938/938 [==============================] - 38s 41ms/step - loss: 0.0190 - accuracy: 0.9937 - val_loss: 0.0284 - val_accuracy: 0.9906\n",
            "Epoch 6/10\n",
            "938/938 [==============================] - 38s 41ms/step - loss: 0.0146 - accuracy: 0.9954 - val_loss: 0.0313 - val_accuracy: 0.9913\n",
            "Epoch 7/10\n",
            "938/938 [==============================] - 39s 41ms/step - loss: 0.0121 - accuracy: 0.9965 - val_loss: 0.0292 - val_accuracy: 0.9920\n",
            "Epoch 8/10\n",
            "938/938 [==============================] - 38s 40ms/step - loss: 0.0117 - accuracy: 0.9962 - val_loss: 0.0284 - val_accuracy: 0.9924\n",
            "Epoch 9/10\n",
            "938/938 [==============================] - 39s 41ms/step - loss: 0.0082 - accuracy: 0.9973 - val_loss: 0.0307 - val_accuracy: 0.9911\n",
            "Epoch 10/10\n",
            "938/938 [==============================] - 38s 40ms/step - loss: 0.0081 - accuracy: 0.9973 - val_loss: 0.0390 - val_accuracy: 0.9897\n",
            "Epoch 1/10\n",
            "938/938 [==============================] - 40s 41ms/step - loss: 0.1513 - accuracy: 0.9521 - val_loss: 0.0672 - val_accuracy: 0.9788\n",
            "Epoch 2/10\n",
            "938/938 [==============================] - 38s 41ms/step - loss: 0.0518 - accuracy: 0.9841 - val_loss: 0.0499 - val_accuracy: 0.9841\n",
            "Epoch 3/10\n",
            "938/938 [==============================] - 39s 42ms/step - loss: 0.0397 - accuracy: 0.9874 - val_loss: 0.0450 - val_accuracy: 0.9850\n",
            "Epoch 4/10\n",
            "938/938 [==============================] - 40s 43ms/step - loss: 0.0312 - accuracy: 0.9904 - val_loss: 0.0466 - val_accuracy: 0.9873\n",
            "Epoch 5/10\n",
            "938/938 [==============================] - 38s 41ms/step - loss: 0.0284 - accuracy: 0.9909 - val_loss: 0.0371 - val_accuracy: 0.9881\n",
            "Epoch 6/10\n",
            "938/938 [==============================] - 39s 41ms/step - loss: 0.0237 - accuracy: 0.9924 - val_loss: 0.0405 - val_accuracy: 0.9896\n",
            "Epoch 7/10\n",
            "938/938 [==============================] - 39s 41ms/step - loss: 0.0189 - accuracy: 0.9938 - val_loss: 0.0427 - val_accuracy: 0.9885\n",
            "Epoch 8/10\n",
            "938/938 [==============================] - 39s 42ms/step - loss: 0.0178 - accuracy: 0.9944 - val_loss: 0.0416 - val_accuracy: 0.9893\n",
            "Epoch 9/10\n",
            "938/938 [==============================] - 38s 41ms/step - loss: 0.0135 - accuracy: 0.9955 - val_loss: 0.0454 - val_accuracy: 0.9897\n",
            "Epoch 10/10\n",
            "938/938 [==============================] - 39s 42ms/step - loss: 0.0159 - accuracy: 0.9954 - val_loss: 0.0467 - val_accuracy: 0.9889\n",
            "Epoch 1/10\n",
            "938/938 [==============================] - 40s 42ms/step - loss: 1.4595 - accuracy: 0.4534 - val_loss: 0.1863 - val_accuracy: 0.9419\n",
            "Epoch 2/10\n",
            "938/938 [==============================] - 39s 41ms/step - loss: 0.1385 - accuracy: 0.9574 - val_loss: 0.1029 - val_accuracy: 0.9687\n",
            "Epoch 3/10\n",
            "938/938 [==============================] - 39s 41ms/step - loss: 0.0831 - accuracy: 0.9744 - val_loss: 0.0652 - val_accuracy: 0.9776\n",
            "Epoch 4/10\n",
            "938/938 [==============================] - 39s 41ms/step - loss: 0.0637 - accuracy: 0.9802 - val_loss: 0.0551 - val_accuracy: 0.9821\n",
            "Epoch 5/10\n",
            "938/938 [==============================] - 39s 42ms/step - loss: 0.0502 - accuracy: 0.9844 - val_loss: 0.0492 - val_accuracy: 0.9834\n",
            "Epoch 6/10\n",
            "938/938 [==============================] - 40s 42ms/step - loss: 0.0414 - accuracy: 0.9869 - val_loss: 0.0523 - val_accuracy: 0.9836\n",
            "Epoch 7/10\n",
            "938/938 [==============================] - 39s 41ms/step - loss: 0.0371 - accuracy: 0.9882 - val_loss: 0.0376 - val_accuracy: 0.9886\n",
            "Epoch 8/10\n",
            "938/938 [==============================] - 40s 42ms/step - loss: 0.0304 - accuracy: 0.9909 - val_loss: 0.0357 - val_accuracy: 0.9883\n",
            "Epoch 9/10\n",
            "938/938 [==============================] - 39s 41ms/step - loss: 0.0272 - accuracy: 0.9911 - val_loss: 0.0377 - val_accuracy: 0.9874\n",
            "Epoch 10/10\n",
            "938/938 [==============================] - 39s 41ms/step - loss: 0.0226 - accuracy: 0.9929 - val_loss: 0.0435 - val_accuracy: 0.9864\n"
          ]
        }
      ]
    },
    {
      "cell_type": "markdown",
      "source": [
        "###Convolutional Layer configurations"
      ],
      "metadata": {
        "id": "kjEJH7tAcnJV"
      }
    },
    {
      "cell_type": "code",
      "source": [
        "configs = [\n",
        "    [(32, (3, 3)), (64, (3, 3)), (128, (3, 3))],\n",
        "    [(64, (3, 3)), (128, (3, 3)), (256, (3, 3))]\n",
        "]\n",
        "\n",
        "config_models = []\n",
        "config_histories = []\n",
        "\n",
        "for config in configs:\n",
        "    model = models.Sequential()\n",
        "    for filters, kernel_size in config:\n",
        "        model.add(layers.Conv2D(filters, kernel_size, activation='relu', padding='same'))\n",
        "        model.add(layers.MaxPooling2D((2, 2)))\n",
        "    model.add(layers.Flatten())\n",
        "    model.add(layers.Dense(128, activation='relu'))\n",
        "    model.add(layers.Dense(10, activation='softmax'))\n",
        "\n",
        "    model.compile(optimizer='adam', loss='categorical_crossentropy', metrics=['accuracy'])\n",
        "    config_models.append(model)\n",
        "\n",
        "for model in config_models:\n",
        "    history = model.fit(x_train, y_train, epochs=10, batch_size=64, validation_data=(x_test, y_test))\n",
        "    config_histories.append(history)\n"
      ],
      "metadata": {
        "colab": {
          "base_uri": "https://localhost:8080/"
        },
        "id": "MzuPfSTAcwEJ",
        "outputId": "6c6d2886-84ba-4b76-a63d-b4916896b020"
      },
      "execution_count": null,
      "outputs": [
        {
          "output_type": "stream",
          "name": "stdout",
          "text": [
            "Epoch 1/10\n",
            "938/938 [==============================] - 71s 75ms/step - loss: 0.1456 - accuracy: 0.9562 - val_loss: 0.0465 - val_accuracy: 0.9849\n",
            "Epoch 2/10\n",
            "938/938 [==============================] - 69s 74ms/step - loss: 0.0405 - accuracy: 0.9881 - val_loss: 0.0285 - val_accuracy: 0.9900\n",
            "Epoch 3/10\n",
            "938/938 [==============================] - 68s 73ms/step - loss: 0.0285 - accuracy: 0.9908 - val_loss: 0.0322 - val_accuracy: 0.9897\n",
            "Epoch 4/10\n",
            "938/938 [==============================] - 68s 72ms/step - loss: 0.0215 - accuracy: 0.9933 - val_loss: 0.0283 - val_accuracy: 0.9906\n",
            "Epoch 5/10\n",
            "938/938 [==============================] - 70s 75ms/step - loss: 0.0171 - accuracy: 0.9947 - val_loss: 0.0292 - val_accuracy: 0.9909\n",
            "Epoch 6/10\n",
            "938/938 [==============================] - 68s 73ms/step - loss: 0.0147 - accuracy: 0.9951 - val_loss: 0.0315 - val_accuracy: 0.9899\n",
            "Epoch 7/10\n",
            "938/938 [==============================] - 68s 73ms/step - loss: 0.0114 - accuracy: 0.9964 - val_loss: 0.0252 - val_accuracy: 0.9931\n",
            "Epoch 8/10\n",
            "938/938 [==============================] - 69s 73ms/step - loss: 0.0122 - accuracy: 0.9958 - val_loss: 0.0243 - val_accuracy: 0.9926\n",
            "Epoch 9/10\n",
            "938/938 [==============================] - 69s 73ms/step - loss: 0.0090 - accuracy: 0.9968 - val_loss: 0.0280 - val_accuracy: 0.9918\n",
            "Epoch 10/10\n",
            "938/938 [==============================] - 68s 72ms/step - loss: 0.0074 - accuracy: 0.9973 - val_loss: 0.0392 - val_accuracy: 0.9898\n",
            "Epoch 1/10\n",
            "938/938 [==============================] - 227s 241ms/step - loss: 0.1280 - accuracy: 0.9594 - val_loss: 0.0320 - val_accuracy: 0.9897\n",
            "Epoch 2/10\n",
            "938/938 [==============================] - 225s 240ms/step - loss: 0.0368 - accuracy: 0.9887 - val_loss: 0.0412 - val_accuracy: 0.9868\n",
            "Epoch 3/10\n",
            "938/938 [==============================] - 224s 239ms/step - loss: 0.0260 - accuracy: 0.9916 - val_loss: 0.0314 - val_accuracy: 0.9899\n",
            "Epoch 4/10\n",
            "938/938 [==============================] - 224s 239ms/step - loss: 0.0203 - accuracy: 0.9939 - val_loss: 0.0225 - val_accuracy: 0.9924\n",
            "Epoch 5/10\n",
            "938/938 [==============================] - 226s 241ms/step - loss: 0.0153 - accuracy: 0.9950 - val_loss: 0.0248 - val_accuracy: 0.9923\n",
            "Epoch 6/10\n",
            "938/938 [==============================] - 226s 241ms/step - loss: 0.0122 - accuracy: 0.9962 - val_loss: 0.0232 - val_accuracy: 0.9926\n",
            "Epoch 7/10\n",
            "938/938 [==============================] - 228s 243ms/step - loss: 0.0108 - accuracy: 0.9966 - val_loss: 0.0326 - val_accuracy: 0.9913\n",
            "Epoch 8/10\n",
            "938/938 [==============================] - 225s 240ms/step - loss: 0.0089 - accuracy: 0.9969 - val_loss: 0.0251 - val_accuracy: 0.9935\n",
            "Epoch 9/10\n",
            "938/938 [==============================] - 224s 239ms/step - loss: 0.0081 - accuracy: 0.9975 - val_loss: 0.0273 - val_accuracy: 0.9923\n",
            "Epoch 10/10\n",
            "938/938 [==============================] - 227s 242ms/step - loss: 0.0067 - accuracy: 0.9978 - val_loss: 0.0318 - val_accuracy: 0.9924\n"
          ]
        }
      ]
    },
    {
      "cell_type": "markdown",
      "source": [
        "###Evaluation and Analysis"
      ],
      "metadata": {
        "id": "fEDFUheIog6h"
      }
    },
    {
      "cell_type": "code",
      "source": [
        "def evaluate_model(model, x_test, y_test):\n",
        "    loss, accuracy = model.evaluate(x_test, y_test)\n",
        "    y_pred = model.predict(x_test)\n",
        "    y_pred_classes = np.argmax(y_pred, axis=1)\n",
        "    y_true = np.argmax(y_test, axis=1)\n",
        "    report = classification_report(y_true, y_pred_classes, target_names=[str(i) for i in range(10)])\n",
        "    return loss, accuracy, report\n",
        "\n",
        "def plot_comparison(histories, labels, metric):\n",
        "    plt.figure(figsize=(10, 6))\n",
        "    for history, label in zip(histories, labels):\n",
        "        plt.plot(history.history[metric], label=label)\n",
        "    plt.title(f'{metric} Comparison')\n",
        "    plt.xlabel('Epoch')\n",
        "    plt.ylabel(metric)\n",
        "    plt.legend()\n",
        "    plt.show()\n",
        "\n",
        "base_loss, base_accuracy, base_report = evaluate_model(base_model, x_test, y_test)\n",
        "print(\"Base Model:\")\n",
        "print(\"Loss:\", base_loss)\n",
        "print(\"Accuracy:\", base_accuracy)\n",
        "print(base_report)\n",
        "\n",
        "\n"
      ],
      "metadata": {
        "colab": {
          "base_uri": "https://localhost:8080/"
        },
        "id": "X9CP5I3Foi65",
        "outputId": "f34d94fb-900b-48ad-e1e5-a78aa9813485"
      },
      "execution_count": null,
      "outputs": [
        {
          "output_type": "stream",
          "name": "stdout",
          "text": [
            "313/313 [==============================] - 2s 7ms/step - loss: 0.0476 - accuracy: 0.9890\n",
            "313/313 [==============================] - 2s 6ms/step\n",
            "Base Model:\n",
            "Loss: 0.04757086932659149\n",
            "Accuracy: 0.9890000224113464\n",
            "              precision    recall  f1-score   support\n",
            "\n",
            "           0       0.99      1.00      0.99       980\n",
            "           1       0.99      1.00      0.99      1135\n",
            "           2       1.00      0.99      0.99      1032\n",
            "           3       0.99      1.00      0.99      1010\n",
            "           4       0.98      1.00      0.99       982\n",
            "           5       0.98      0.99      0.99       892\n",
            "           6       1.00      0.99      0.99       958\n",
            "           7       0.98      0.99      0.99      1028\n",
            "           8       1.00      0.97      0.99       974\n",
            "           9       0.99      0.97      0.98      1009\n",
            "\n",
            "    accuracy                           0.99     10000\n",
            "   macro avg       0.99      0.99      0.99     10000\n",
            "weighted avg       0.99      0.99      0.99     10000\n",
            "\n"
          ]
        }
      ]
    },
    {
      "cell_type": "code",
      "source": [
        "activation_labels = ['ReLU', 'Tanh', 'Sigmoid']\n",
        "activation_losses = []\n",
        "activation_accuracies = []\n",
        "activation_reports = []\n",
        "\n",
        "for model in activation_models:\n",
        "    loss, accuracy, report = evaluate_model(model, x_test, y_test)\n",
        "    activation_losses.append(loss)\n",
        "    activation_accuracies.append(accuracy)\n",
        "    activation_reports.append(report)\n",
        "\n",
        "config_labels = ['Config 1', 'Config 2']\n",
        "config_losses = []\n",
        "config_accuracies = []\n",
        "config_reports = []\n",
        "\n",
        "for model in config_models:\n",
        "    loss, accuracy, report = evaluate_model(model, x_test, y_test)\n",
        "    config_losses.append(loss)\n",
        "    config_accuracies.append(accuracy)\n",
        "    config_reports.append(report)\n",
        "\n",
        "plot_comparison([base_history] + activation_histories, ['Base'] + activation_labels, 'accuracy')\n",
        "plot_comparison(config_histories, config_labels, 'accuracy')"
      ],
      "metadata": {
        "colab": {
          "base_uri": "https://localhost:8080/",
          "height": 1000
        },
        "id": "xLkZcjZDoswi",
        "outputId": "c3bfd157-b440-476d-83e6-c2d14a790643"
      },
      "execution_count": null,
      "outputs": [
        {
          "output_type": "stream",
          "name": "stdout",
          "text": [
            "313/313 [==============================] - 2s 6ms/step - loss: 0.0390 - accuracy: 0.9897\n",
            "313/313 [==============================] - 2s 6ms/step\n",
            "313/313 [==============================] - 2s 7ms/step - loss: 0.0467 - accuracy: 0.9889\n",
            "313/313 [==============================] - 2s 7ms/step\n",
            "313/313 [==============================] - 3s 9ms/step - loss: 0.0435 - accuracy: 0.9864\n",
            "313/313 [==============================] - 2s 7ms/step\n",
            "313/313 [==============================] - 3s 10ms/step - loss: 0.0392 - accuracy: 0.9898\n",
            "313/313 [==============================] - 4s 12ms/step\n",
            "313/313 [==============================] - 9s 29ms/step - loss: 0.0318 - accuracy: 0.9924\n",
            "313/313 [==============================] - 9s 29ms/step\n"
          ]
        },
        {
          "output_type": "display_data",
          "data": {
            "text/plain": [
              "<Figure size 1000x600 with 1 Axes>"
            ],
            "image/png": "[encoded data removed]"
          },
          "metadata": {}
        },
        {
          "output_type": "display_data",
          "data": {
            "text/plain": [
              "<Figure size 1000x600 with 1 Axes>"
            ],
            "image/png": "[encoded data removed]"
          },
          "metadata": {}
        }
      ]
    }
  ]
}